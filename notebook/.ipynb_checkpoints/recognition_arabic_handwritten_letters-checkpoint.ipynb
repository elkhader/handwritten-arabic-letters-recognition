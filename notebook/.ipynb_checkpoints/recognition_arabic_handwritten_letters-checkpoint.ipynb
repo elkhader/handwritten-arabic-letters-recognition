{
 "cells": [
  {
   "cell_type": "code",
   "execution_count": 1,
   "metadata": {},
   "outputs": [],
   "source": [
    "from pandas import read_csv\n",
    "from sklearn.neighbors import KNeighborsClassifier\n",
    "from sklearn.metrics import classification_report\n",
    "from sklearn.metrics import confusion_matrix\n",
    "from sklearn.metrics import accuracy_score\n",
    "import numpy as np\n",
    "import math\n",
    "import random\n",
    "from matplotlib import pyplot as plt\n",
    "from skimage.feature import local_binary_pattern"
   ]
  },
  {
   "cell_type": "markdown",
   "metadata": {},
   "source": [
    "# Dataset\n",
    "*These vectors are the handwritten 32x32 images of the arabic letters, spread and reshaped into vectors of (1024,1)*\n",
    "- **Train Images (13400x1024):** Consists of 13400 examples. Each example is a vector of 1024 elements. These elements represent pixels. \n",
    "- **Test Images (3360x1024):** Consists of 3360 examples. Each example is a vector of 1024 elements.\n",
    "\n",
    "<br>\n",
    "\n",
    "*Each label is a number (from 1 to 28) corresponding to one of the 28 Arabic letters.*\n",
    "\n",
    "- **Train Labels (13400x1)**: Labels of the 13400 training examples. \n",
    "- **Test Labels (13400x1)** : Labels of the 3360 test examples."
   ]
  },
  {
   "cell_type": "markdown",
   "metadata": {},
   "source": [
    "### Import dataset"
   ]
  },
  {
   "cell_type": "code",
   "execution_count": 2,
   "metadata": {},
   "outputs": [],
   "source": [
    "ar_letters_rom =[\"alif\",\"bāʼ\",\"tāʼ\",\"thāʼ\",\"jīm\",\"ḥāʼ\",\"khāʼ\",\"dāl\",\"dhāl\",\"rāʼ\",\"zayn/zāy\",\"sīn\",\"shīn\",\"ṣād\",\"ḍād\",\"ṭāʼ\",\"ẓāʼ\",\"ʻayn\",\"ghayn\",\"fāʼ\",\"qāf\",\"kāf\",\"lām\",\"mīm\",\"nūn\",\"hāʼ\",\"wāw\",\"yāʼ\"]\n",
    "ar_letters =[\"أ\",\"ب\",\"ت\",\"ث\",\"ج\",\"ح\",\"خ\",\"د\",\"ذ\",\"ر\",\"ز\",\"س\",\"ش\",\"ص\",\"ض\",\"ط\",\"ظ\",\"ع\",\"غ\",\"ف\",\"ق\",\"ك\",\"ل\",\"م\",\"ن\",\"ه\",\"و\",\"ي\"]\n",
    "ar_letters_whole =[\"ألف\",\"باء\",\"تاء\",\"ثاء\",\"جيم\",\"حاء\",\"خاء\",\"دال\",\"ذال\",\"راء\",\"زاي\",\"سين\",\"شين\",\"صاد\",\"ضاد\",\"طاء\",\"ظاء\",\"عين\",\"غين\",\"فاء\",\"قاف\",\"كاف\",\"لام\",\"ميم\",\"نون\",\"هاء\",\"واو\",\"ياء\"]\n",
    "\n",
    "columns = [i for i in range(1024)]\n",
    "PIXELS = 1024\n",
    "DIMENSIONS = np.int16(math.sqrt(PIXELS))"
   ]
  },
  {
   "cell_type": "code",
   "execution_count": 3,
   "metadata": {},
   "outputs": [],
   "source": [
    "X_train = read_csv(\"/Users/elkha//Desktop/Arabic_Handwritten_Characters_Dataset_CSV/csvTrainImages_13440x1024.csv\",names=columns)\n",
    "X_test = read_csv(\"/Users/elkha/Desktop/Arabic_Handwritten_Characters_Dataset_CSV/csvTestImages_3360x1024.csv\",names=columns)\n",
    "y_train = read_csv(\"/Users/elkha/Desktop/Arabic_Handwritten_Characters_Dataset_CSV/csvTrainLabel_13440x1.csv\", names=['Class'])\n",
    "y_test = read_csv(\"/Users/elkha/Desktop/Arabic_Handwritten_Characters_Dataset_CSV/csvTestLabel_3360x1.csv\", names=['Class'])"
   ]
  },
  {
   "cell_type": "code",
   "execution_count": 110,
   "metadata": {},
   "outputs": [
    {
     "name": "stdout",
     "output_type": "stream",
     "text": [
      "Dimension of X_train: (13440, 1024)\n",
      "Dimension of y_train: (13440, 1)\n",
      "Dimension of X_test: (3360, 1024)\n",
      "Dimension of y_test: (3360, 1)\n"
     ]
    }
   ],
   "source": [
    "print(\"Dimension of X_train: \"+  str(X_train.shape)+ \"\\nDimension of y_train: \" + str(y_train.shape)+ \"\\nDimension of X_test: \"+  str(X_test.shape)+ \"\\nDimension of y_test: \" + str(y_test.shape))"
   ]
  },
  {
   "cell_type": "code",
   "execution_count": 71,
   "metadata": {},
   "outputs": [
    {
     "data": {
      "text/plain": [
       "array([ 1,  2,  3,  4,  5,  6,  7,  8,  9, 10, 11, 12, 13, 14, 15, 16, 17,\n",
       "       18, 19, 20, 21, 22, 23, 24, 25, 26, 27, 28], dtype=int64)"
      ]
     },
     "execution_count": 71,
     "metadata": {},
     "output_type": "execute_result"
    }
   ],
   "source": [
    "y_train['Class'].unique() "
   ]
  },
  {
   "cell_type": "markdown",
   "metadata": {},
   "source": [
    "### An example "
   ]
  },
  {
   "cell_type": "code",
   "execution_count": 6,
   "metadata": {},
   "outputs": [],
   "source": [
    "def imagify(arr, getimage=False, showimage=True):\n",
    "    img = np.array(np.reshape(arr, (DIMENSIONS, DIMENSIONS)), dtype=\"uint8\")\n",
    "    if showimage:\n",
    "        plt.imshow(img, interpolation='nearest')\n",
    "        plt.gray()\n",
    "        plt.show() \n",
    "        \n",
    "    if getimage:\n",
    "        return img"
   ]
  },
  {
   "cell_type": "code",
   "execution_count": 117,
   "metadata": {},
   "outputs": [],
   "source": [
    "example=random.randint(0,13440)"
   ]
  },
  {
   "cell_type": "code",
   "execution_count": 92,
   "metadata": {},
   "outputs": [
    {
     "data": {
      "image/png": "[encoded data removed]",
      "text/plain": [
       "<Figure size 432x288 with 1 Axes>"
      ]
     },
     "metadata": {
      "needs_background": "light"
     },
     "output_type": "display_data"
    },
    {
     "name": "stdout",
     "output_type": "stream",
     "text": [
      "ق - qāf - قاف\n"
     ]
    }
   ],
   "source": [
    "imagify(X_train.values[example])\n",
    "example_class=y_train.values[example][0]\n",
    "print(ar_letters[example_class-1]+\" - \"+ar_letters_rom[example_class-1]+\" - \"+ ar_letters_whole[example_class-1])"
   ]
  },
  {
   "cell_type": "markdown",
   "metadata": {},
   "source": [
    "# Classifier: k-NN"
   ]
  },
  {
   "cell_type": "code",
   "execution_count": 112,
   "metadata": {},
   "outputs": [
    {
     "data": {
      "text/plain": [
       "KNeighborsClassifier(n_neighbors=1)"
      ]
     },
     "execution_count": 112,
     "metadata": {},
     "output_type": "execute_result"
    }
   ],
   "source": [
    "knn = KNeighborsClassifier(n_neighbors=1)\n",
    "knn.fit(X_train, y_train.values.flatten())"
   ]
  },
  {
   "cell_type": "code",
   "execution_count": 113,
   "metadata": {},
   "outputs": [
    {
     "data": {
      "text/plain": [
       "0.5607142857142857"
      ]
     },
     "execution_count": 113,
     "metadata": {},
     "output_type": "execute_result"
    }
   ],
   "source": [
    "y_pred = knn.predict(X_test)\n",
    "accuracy_score(y_test.values.flatten(), y_pred)"
   ]
  },
  {
   "cell_type": "code",
   "execution_count": 204,
   "metadata": {},
   "outputs": [
    {
     "data": {
      "image/png": "[encoded data removed]",
      "text/plain": [
       "<Figure size 432x288 with 2 Axes>"
      ]
     },
     "metadata": {
      "needs_background": "light"
     },
     "output_type": "display_data"
    }
   ],
   "source": [
    "cm = confusion_matrix(y_test, y_pred)\n",
    "labels = [i for i in range(1,29)]\n",
    "fig = plt.figure()\n",
    "ax = fig.add_subplot(111)\n",
    "cax = ax.matshow(cm)\n",
    "plt.title('Confusion matrix of k-NN (k=1)', y=1.1)\n",
    "fig.colorbar(cax)\n",
    "ax.set_xticklabels([''] + labels)\n",
    "ax.set_yticklabels([''] + labels)\n",
    "plt.xlabel('Predicted')\n",
    "plt.ylabel('True')\n",
    "plt.show()"
   ]
  },
  {
   "cell_type": "code",
   "execution_count": 116,
   "metadata": {},
   "outputs": [
    {
     "data": {
      "image/png": "[encoded data removed]",
      "text/plain": [
       "<Figure size 864x432 with 1 Axes>"
      ]
     },
     "metadata": {
      "needs_background": "light"
     },
     "output_type": "display_data"
    }
   ],
   "source": [
    "accuracy = []\n",
    "#kfold = model_selection.KFold(n_splits=10)\n",
    "# Calculating error for K values between 1 and 40\n",
    "for j in range(1, 15): \n",
    "    knn = KNeighborsClassifier(n_neighbors=j)\n",
    "    knn.fit(X_train, y_train.values.flatten())\n",
    "    y_pred = knn.predict(X_test)\n",
    "    accuracy.append(accuracy_score(y_test.values.flatten(), y_pred))\n",
    "    \n",
    "plt.figure(figsize=(12, 6))  \n",
    "plt.plot(range(1, 15), accuracy, color='deepskyblue', linestyle='dashed', marker='o',  \n",
    "         markerfacecolor='darkorange', markersize=10)\n",
    "plt.title('Accuracy par rapport à K')  \n",
    "plt.xlabel('valeur de K')  \n",
    "plt.ylabel('Accuracy') \n",
    "plt.show()"
   ]
  },
  {
   "cell_type": "markdown",
   "metadata": {},
   "source": [
    "# Descriptor: Local Binary Pattern (LBP)"
   ]
  },
  {
   "cell_type": "code",
   "execution_count": 4,
   "metadata": {},
   "outputs": [],
   "source": [
    "def apply_LBP(arr):\n",
    "    arr_reshaped=np.array(np.reshape(arr, (DIMENSIONS, DIMENSIONS)), dtype=\"uint8\")\n",
    "    LBPed=local_binary_pattern(arr_reshaped,3,8,method='default')\n",
    "    LBPed=np.array(np.reshape(LBPed, (1, 1024)), dtype=\"uint8\")\n",
    "    return LBPed\n",
    "\n",
    "def apply_LBP_frame(df):\n",
    "    df_LBP=df.copy()\n",
    "    m=len(df)\n",
    "    i=0\n",
    "    for i in range (m):\n",
    "        newvalue=apply_LBP(df.values[i])\n",
    "        df_LBP.values[i]=newvalue\n",
    "    return df_LBP"
   ]
  },
  {
   "cell_type": "code",
   "execution_count": 5,
   "metadata": {},
   "outputs": [],
   "source": [
    "X_train_LBP=apply_LBP_frame(X_train)"
   ]
  },
  {
   "cell_type": "markdown",
   "metadata": {},
   "source": [
    "### An example"
   ]
  },
  {
   "cell_type": "code",
   "execution_count": 198,
   "metadata": {},
   "outputs": [],
   "source": [
    "example=random.randint(1,13440)\n",
    "example_class=y_train.values[example][0]\n",
    "example_letter= str(ar_letters[example_class-1]+ \" - \"+ar_letters_rom[example_class-1]+\" - \"+ ar_letters_whole[example_class-1])"
   ]
  },
  {
   "cell_type": "code",
   "execution_count": 200,
   "metadata": {},
   "outputs": [
    {
     "data": {
      "image/png": "[encoded data removed]",
      "text/plain": [
       "<Figure size 720x720 with 2 Axes>"
      ]
     },
     "metadata": {
      "needs_background": "light"
     },
     "output_type": "display_data"
    }
   ],
   "source": [
    "f = plt.figure(figsize=(10,10))\n",
    "\n",
    "f1=f.add_subplot(1,2, 1)\n",
    "plt.imshow(imagify(X_train.values[example], getimage=True, showimage=False))\n",
    "f1.title.set_text('LBP not applied')\n",
    "\n",
    "f2=f.add_subplot(1,2, 2)\n",
    "plt.imshow(imagify(X_train_LBP.values[example], getimage=True, showimage=False))\n",
    "f2.title.set_text('LBP applied')\n",
    "\n",
    "f.suptitle(\"Image of the letter ( \"+ example_letter + \" ) with and without LBP\", y=0.75)\n",
    "plt.show(block=True)"
   ]
  },
  {
   "cell_type": "markdown",
   "metadata": {},
   "source": [
    "### Fit and predict"
   ]
  },
  {
   "cell_type": "code",
   "execution_count": 6,
   "metadata": {},
   "outputs": [
    {
     "data": {
      "text/plain": [
       "KNeighborsClassifier(n_neighbors=1)"
      ]
     },
     "execution_count": 6,
     "metadata": {},
     "output_type": "execute_result"
    }
   ],
   "source": [
    "knn = KNeighborsClassifier(n_neighbors=1)\n",
    "knn.fit(X_train_LBP, y_train.values.flatten())"
   ]
  },
  {
   "cell_type": "code",
   "execution_count": 7,
   "metadata": {},
   "outputs": [
    {
     "data": {
      "text/plain": [
       "0.6574404761904762"
      ]
     },
     "execution_count": 7,
     "metadata": {},
     "output_type": "execute_result"
    }
   ],
   "source": [
    "X_test_LBP= apply_LBP_frame(X_test)\n",
    "y_pred = knn.predict(X_test_LBP)\n",
    "accuracy_score(y_test.values.flatten(), y_pred)"
   ]
  },
  {
   "cell_type": "markdown",
   "metadata": {},
   "source": [
    "### Save Model"
   ]
  },
  {
   "cell_type": "code",
   "execution_count": 25,
   "metadata": {},
   "outputs": [],
   "source": [
    "import pickle\n",
    "import os\n",
    "\n",
    "cwd = os.getcwd()\n",
    "cwd=cwd.replace('\\\\notebook','\\\\model\\\\')\n",
    "\n",
    "model_filename = \"knn_model.pkl\"\n",
    "with open(cwd + model_filename, 'wb') as file:\n",
    "    pickle.dump(knn, file)"
   ]
  },
  {
   "cell_type": "markdown",
   "metadata": {},
   "source": [
    "# Sketch Application"
   ]
  },
  {
   "cell_type": "code",
   "execution_count": 101,
   "metadata": {},
   "outputs": [],
   "source": [
    "from PIL import ImageTk, Image, ImageDraw\n",
    "import PIL\n",
    "from tkinter import *\n",
    "\n",
    "width = 200  # canvas width\n",
    "height = 200 # canvas height\n",
    "center = height//2\n",
    "white = (255, 255, 255) # canvas back\n",
    "\n",
    "\n",
    "def paint(event):\n",
    "    x1, y1 = (event.x - 1), (event.y - 1)\n",
    "    x2, y2 = (event.x + 1), (event.y + 1)\n",
    "    canvas.create_oval(x1, y1, x2, y2, fill=\"black\",width=10)\n",
    "    draw.line([x1, y1, x2, y2],fill=\"black\",width=15)\n",
    "\n",
    "def update():\n",
    "    txt.insert(END,\"Changed \\n hello\")\n",
    "\n",
    "    \n",
    "def predict():\n",
    "    from PIL import Image\n",
    "    image= output_image.transpose(Image.FLIP_LEFT_RIGHT)\n",
    "    image= image.rotate(90)\n",
    "    image= image.resize((32,32))\n",
    "    numpydata=np.asarray(image)\n",
    "    numpydata=np.reshape(numpydata,(1,1024))\n",
    "    LBP=apply_LBP(numpydata)\n",
    "    prediction=knn.predict(LBP)\n",
    "    prediction_text= str(\"\\n\" + ar_letters[prediction[0]-1]+ \" - \"+ar_letters_rom[prediction[0]-1]+\" - \"+ ar_letters_whole[prediction[0]-1])\n",
    "    txt.insert(END, prediction_text)\n",
    "    #print(prediction[0])\n",
    "\n",
    "\n",
    "def clear():\n",
    "    from PIL import Image,ImageDraw\n",
    "    global output_image\n",
    "    global draw\n",
    "    txt.delete(1.0,END)\n",
    "    output_image = PIL.Image.new(\"P\", (200, 200), white)\n",
    "    draw = ImageDraw.Draw(output_image)\n",
    "    canvas.delete('all')\n",
    "\n",
    "    \n",
    "master = Tk()\n",
    "\n",
    "# create a tkinter canvas to draw onq\n",
    "canvas = Canvas(master, width=width, height=height, bg='white')\n",
    "canvas.pack()\n",
    "\n",
    "# create an empty PIL image and draw object to draw on\n",
    "output_image = PIL.Image.new(\"P\", (200, 200), white)\n",
    "draw = ImageDraw.Draw(output_image)\n",
    "\n",
    "txt=Text(master,bd=2,exportselection=0,bg='WHITE',font=('Helvetica', 18, 'bold'),height=3,width=15,padx=5, pady=70)\n",
    "txt.tag_configure(\"center\", justify='center')\n",
    "\n",
    "\n",
    "\n",
    "canvas.pack(expand=YES, fill=BOTH,side=LEFT)\n",
    "canvas.bind(\"<B1-Motion>\", paint)\n",
    "\n",
    "txt.pack(side=RIGHT, expand=YES, fill=BOTH)\n",
    "txt.tag_configure(\"center\", justify='center')\n",
    "#txt.insert(END,\"\\n\")\n",
    "\n",
    "\n",
    "button=Button(text=\" Predict  \",command=predict)\n",
    "button.pack(side=LEFT)\n",
    "\n",
    "button2=Button(text=\"   Clear   \",command=clear)\n",
    "#button2.pack()\n",
    "button2.place(x=204, y=135)\n",
    "\n",
    "master.mainloop()"
   ]
  },
  {
   "cell_type": "code",
   "execution_count": 103,
   "metadata": {},
   "outputs": [],
   "source": [
    "import pickle"
   ]
  },
  {
   "cell_type": "code",
   "execution_count": 33,
   "metadata": {},
   "outputs": [],
   "source": [
    "import os\n",
    "from PIL import ImageTk, Image, ImageDraw\n",
    "import PIL\n",
    "from tkinter import *\n",
    "\n",
    "    \n",
    "width = 200  # canvas width\n",
    "height = 200 # canvas height\n",
    "center = height//2\n",
    "white = (255, 255, 255) # canvas back\n",
    "\n",
    "#getting model\n",
    "cwd = os.getcwd()\n",
    "cwd=cwd.replace(\"application\", \"model\\\\knn_model.pkl\")             \n",
    "with open(model_filename, 'rb') as file:\n",
    "    knn_model = pickle.load(file)\n",
    "\n",
    "\n",
    "def paint(event):\n",
    "    x1, y1 = (event.x - 1), (event.y - 1)\n",
    "    x2, y2 = (event.x + 1), (event.y + 1)\n",
    "    canvas.create_oval(x1, y1, x2, y2, fill=\"black\",width=10)\n",
    "    draw.line([x1, y1, x2, y2],fill=\"black\",width=15)\n",
    "\n",
    "def update():\n",
    "    txt.insert(END,\"Changed \\n hello\")\n",
    "\n",
    "    \n",
    "def predict():\n",
    "    from PIL import Image\n",
    "    image= output_image.transpose(Image.FLIP_LEFT_RIGHT)\n",
    "    image= image.rotate(90)\n",
    "    image= image.resize((32,32))\n",
    "    numpydata=np.asarray(image)\n",
    "    numpydata=np.reshape(numpydata,(1,1024))\n",
    "    LBP=apply_LBP(numpydata)\n",
    "    prediction=knn.predict(LBP)\n",
    "    prediction_text= str(\"\\n\" + ar_letters[prediction[0]-1]+ \" - \"+ar_letters_rom[prediction[0]-1]+\" - \"+ ar_letters_whole[prediction[0]-1])\n",
    "    txt.insert(END, prediction_text)\n",
    "    #print(prediction[0])\n",
    "\n",
    "\n",
    "def clear():\n",
    "    from PIL import Image,ImageDraw\n",
    "    global output_image\n",
    "    global draw\n",
    "    txt.delete(1.0,END)\n",
    "    output_image = PIL.Image.new(\"P\", (200, 200), white)\n",
    "    draw = ImageDraw.Draw(output_image)\n",
    "    canvas.delete('all')\n",
    "\n",
    "    \n",
    "master = Tk()\n",
    "\n",
    "# create a tkinter canvas to draw onq\n",
    "canvas = Canvas(master, width=width, height=height, bg='white')\n",
    "canvas.pack()\n",
    "\n",
    "# create an empty PIL image and draw object to draw on\n",
    "output_image = PIL.Image.new(\"P\", (200, 200), white)\n",
    "draw = ImageDraw.Draw(output_image)\n",
    "\n",
    "txt=Text(master,bd=2,exportselection=0,bg='WHITE',font=('Helvetica', 18, 'bold'),height=3,width=15,padx=5, pady=70)\n",
    "txt.tag_configure(\"center\", justify='center')\n",
    "\n",
    "\n",
    "\n",
    "canvas.pack(expand=YES, fill=BOTH,side=LEFT)\n",
    "canvas.bind(\"<B1-Motion>\", paint)\n",
    "\n",
    "txt.pack(side=RIGHT, expand=YES, fill=BOTH)\n",
    "txt.tag_configure(\"center\", justify='center')\n",
    "#txt.insert(END,\"\\n\")\n",
    "\n",
    "\n",
    "button=Button(text=\" Predict  \",command=predict)\n",
    "button.pack(side=LEFT)\n",
    "\n",
    "button2=Button(text=\"   Clear   \",command=clear)\n",
    "#button2.pack()\n",
    "button2.place(x=204, y=135)\n",
    "\n",
    "master.mainloop()    "
   ]
  },
  {
   "cell_type": "code",
   "execution_count": 29,
   "metadata": {},
   "outputs": [],
   "source": []
  },
  {
   "cell_type": "code",
   "execution_count": 30,
   "metadata": {},
   "outputs": [
    {
     "data": {
      "text/plain": [
       "'C:\\\\Users\\\\elkha\\\\Desktop\\\\handwritten-arabic-letters-recognition\\\\model\\\\knn_model.pkl'"
      ]
     },
     "execution_count": 30,
     "metadata": {},
     "output_type": "execute_result"
    }
   ],
   "source": [
    "cwd"
   ]
  },
  {
   "cell_type": "code",
   "execution_count": 31,
   "metadata": {},
   "outputs": [],
   "source": [
    "with open(model_filename, 'rb') as file:\n",
    "    knn_model = pickle.load(file)"
   ]
  },
  {
   "cell_type": "code",
   "execution_count": 32,
   "metadata": {},
   "outputs": [
    {
     "data": {
      "text/plain": [
       "0.6574404761904762"
      ]
     },
     "execution_count": 32,
     "metadata": {},
     "output_type": "execute_result"
    }
   ],
   "source": [
    "y_pred2 = knn_model2.predict(X_test_LBP)\n",
    "accuracy_score(y_test.values.flatten(), y_pred2)"
   ]
  },
  {
   "cell_type": "code",
   "execution_count": null,
   "metadata": {},
   "outputs": [],
   "source": []
  }
 ],
 "metadata": {
  "kernelspec": {
   "display_name": "Python 3",
   "language": "python",
   "name": "python3"
  },
  "language_info": {
   "codemirror_mode": {
    "name": "ipython",
    "version": 3
   },
   "file_extension": ".py",
   "mimetype": "text/x-python",
   "name": "python",
   "nbconvert_exporter": "python",
   "pygments_lexer": "ipython3",
   "version": "3.7.6"
  }
 },
 "nbformat": 4,
 "nbformat_minor": 4
}
